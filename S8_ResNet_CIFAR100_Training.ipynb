{
  "nbformat": 4,
  "nbformat_minor": 0,
  "metadata": {
    "colab": {
      "provenance": [],
      "gpuType": "T4",
      "authorship_tag": "ABX9TyND+rK5LF120tTsUc3YtzS7",
      "include_colab_link": true
    },
    "kernelspec": {
      "name": "python3",
      "display_name": "Python 3"
    },
    "language_info": {
      "name": "python"
    },
    "accelerator": "GPU"
  },
  "cells": [
    {
      "cell_type": "markdown",
      "metadata": {
        "id": "view-in-github",
        "colab_type": "text"
      },
      "source": [
        "<a href=\"https://colab.research.google.com/github/neelreddyrebala/S8-CIFAR100-ResNet/blob/main/S8_ResNet_CIFAR100_Training.ipynb\" target=\"_parent\"><img src=\"https://colab.research.google.com/assets/colab-badge.svg\" alt=\"Open In Colab\"/></a>"
      ]
    },
    {
      "cell_type": "code",
      "execution_count": 1,
      "metadata": {
        "colab": {
          "base_uri": "https://localhost:8080/"
        },
        "id": "8kpP9j3Z1nE_",
        "outputId": "24db7634-1e79-421e-fad1-4528cf648309"
      },
      "outputs": [
        {
          "output_type": "stream",
          "name": "stdout",
          "text": [
            "Sun Oct  5 05:30:32 2025       \n",
            "+-----------------------------------------------------------------------------------------+\n",
            "| NVIDIA-SMI 550.54.15              Driver Version: 550.54.15      CUDA Version: 12.4     |\n",
            "|-----------------------------------------+------------------------+----------------------+\n",
            "| GPU  Name                 Persistence-M | Bus-Id          Disp.A | Volatile Uncorr. ECC |\n",
            "| Fan  Temp   Perf          Pwr:Usage/Cap |           Memory-Usage | GPU-Util  Compute M. |\n",
            "|                                         |                        |               MIG M. |\n",
            "|=========================================+========================+======================|\n",
            "|   0  Tesla T4                       Off |   00000000:00:04.0 Off |                    0 |\n",
            "| N/A   61C    P8             11W /   70W |       0MiB /  15360MiB |      0%      Default |\n",
            "|                                         |                        |                  N/A |\n",
            "+-----------------------------------------+------------------------+----------------------+\n",
            "                                                                                         \n",
            "+-----------------------------------------------------------------------------------------+\n",
            "| Processes:                                                                              |\n",
            "|  GPU   GI   CI        PID   Type   Process name                              GPU Memory |\n",
            "|        ID   ID                                                               Usage      |\n",
            "|=========================================================================================|\n",
            "|  No running processes found                                                             |\n",
            "+-----------------------------------------------------------------------------------------+\n",
            "Cloning into 'S8-CIFAR100-ResNet'...\n",
            "remote: Enumerating objects: 20, done.\u001b[K\n",
            "remote: Counting objects: 100% (20/20), done.\u001b[K\n",
            "remote: Compressing objects: 100% (16/16), done.\u001b[K\n",
            "remote: Total 20 (delta 2), reused 20 (delta 2), pack-reused 0 (from 0)\u001b[K\n",
            "Receiving objects: 100% (20/20), 10.06 KiB | 10.06 MiB/s, done.\n",
            "Resolving deltas: 100% (2/2), done.\n",
            "/content/S8-CIFAR100-ResNet\n"
          ]
        }
      ],
      "source": [
        "!nvidia-smi   # confirm GPU available\n",
        "!git clone https://github.com/neelreddyrebala/S8-CIFAR100-ResNet.git\n",
        "%cd S8-CIFAR100-ResNet\n"
      ]
    },
    {
      "cell_type": "code",
      "source": [
        "!pip install --upgrade pip\n",
        "!pip install -r requirements.txt\n"
      ],
      "metadata": {
        "colab": {
          "base_uri": "https://localhost:8080/"
        },
        "id": "wMG3PuJh2ean",
        "outputId": "04b01b4c-b06d-4650-9ff6-e91e02b897dd"
      },
      "execution_count": 2,
      "outputs": [
        {
          "output_type": "stream",
          "name": "stdout",
          "text": [
            "Requirement already satisfied: pip in /usr/local/lib/python3.12/dist-packages (24.1.2)\n",
            "Collecting pip\n",
            "  Downloading pip-25.2-py3-none-any.whl.metadata (4.7 kB)\n",
            "Downloading pip-25.2-py3-none-any.whl (1.8 MB)\n",
            "\u001b[2K   \u001b[90m━━━━━━━━━━━━━━━━━━━━━━━━━━━━━━━━━━━━━━━━\u001b[0m \u001b[32m1.8/1.8 MB\u001b[0m \u001b[31m33.4 MB/s\u001b[0m eta \u001b[36m0:00:00\u001b[0m\n",
            "\u001b[?25hInstalling collected packages: pip\n",
            "  Attempting uninstall: pip\n",
            "    Found existing installation: pip 24.1.2\n",
            "    Uninstalling pip-24.1.2:\n",
            "      Successfully uninstalled pip-24.1.2\n",
            "Successfully installed pip-25.2\n",
            "Requirement already satisfied: torch>=2.0.0 in /usr/local/lib/python3.12/dist-packages (from -r requirements.txt (line 1)) (2.8.0+cu126)\n",
            "Requirement already satisfied: torchvision>=0.15.0 in /usr/local/lib/python3.12/dist-packages (from -r requirements.txt (line 2)) (0.23.0+cu126)\n",
            "Requirement already satisfied: numpy>=1.23.0 in /usr/local/lib/python3.12/dist-packages (from -r requirements.txt (line 3)) (2.0.2)\n",
            "Requirement already satisfied: Pillow>=9.5.0 in /usr/local/lib/python3.12/dist-packages (from -r requirements.txt (line 4)) (11.3.0)\n",
            "Requirement already satisfied: tqdm>=4.66.0 in /usr/local/lib/python3.12/dist-packages (from -r requirements.txt (line 5)) (4.67.1)\n",
            "Requirement already satisfied: matplotlib>=3.7.0 in /usr/local/lib/python3.12/dist-packages (from -r requirements.txt (line 6)) (3.10.0)\n",
            "Requirement already satisfied: gradio>=4.44.0 in /usr/local/lib/python3.12/dist-packages (from -r requirements.txt (line 7)) (5.47.2)\n",
            "Requirement already satisfied: huggingface_hub>=0.24.0 in /usr/local/lib/python3.12/dist-packages (from -r requirements.txt (line 8)) (0.35.3)\n",
            "Requirement already satisfied: filelock in /usr/local/lib/python3.12/dist-packages (from torch>=2.0.0->-r requirements.txt (line 1)) (3.19.1)\n",
            "Requirement already satisfied: typing-extensions>=4.10.0 in /usr/local/lib/python3.12/dist-packages (from torch>=2.0.0->-r requirements.txt (line 1)) (4.15.0)\n",
            "Requirement already satisfied: setuptools in /usr/local/lib/python3.12/dist-packages (from torch>=2.0.0->-r requirements.txt (line 1)) (75.2.0)\n",
            "Requirement already satisfied: sympy>=1.13.3 in /usr/local/lib/python3.12/dist-packages (from torch>=2.0.0->-r requirements.txt (line 1)) (1.13.3)\n",
            "Requirement already satisfied: networkx in /usr/local/lib/python3.12/dist-packages (from torch>=2.0.0->-r requirements.txt (line 1)) (3.5)\n",
            "Requirement already satisfied: jinja2 in /usr/local/lib/python3.12/dist-packages (from torch>=2.0.0->-r requirements.txt (line 1)) (3.1.6)\n",
            "Requirement already satisfied: fsspec in /usr/local/lib/python3.12/dist-packages (from torch>=2.0.0->-r requirements.txt (line 1)) (2025.3.0)\n",
            "Requirement already satisfied: nvidia-cuda-nvrtc-cu12==12.6.77 in /usr/local/lib/python3.12/dist-packages (from torch>=2.0.0->-r requirements.txt (line 1)) (12.6.77)\n",
            "Requirement already satisfied: nvidia-cuda-runtime-cu12==12.6.77 in /usr/local/lib/python3.12/dist-packages (from torch>=2.0.0->-r requirements.txt (line 1)) (12.6.77)\n",
            "Requirement already satisfied: nvidia-cuda-cupti-cu12==12.6.80 in /usr/local/lib/python3.12/dist-packages (from torch>=2.0.0->-r requirements.txt (line 1)) (12.6.80)\n",
            "Requirement already satisfied: nvidia-cudnn-cu12==9.10.2.21 in /usr/local/lib/python3.12/dist-packages (from torch>=2.0.0->-r requirements.txt (line 1)) (9.10.2.21)\n",
            "Requirement already satisfied: nvidia-cublas-cu12==12.6.4.1 in /usr/local/lib/python3.12/dist-packages (from torch>=2.0.0->-r requirements.txt (line 1)) (12.6.4.1)\n",
            "Requirement already satisfied: nvidia-cufft-cu12==11.3.0.4 in /usr/local/lib/python3.12/dist-packages (from torch>=2.0.0->-r requirements.txt (line 1)) (11.3.0.4)\n",
            "Requirement already satisfied: nvidia-curand-cu12==10.3.7.77 in /usr/local/lib/python3.12/dist-packages (from torch>=2.0.0->-r requirements.txt (line 1)) (10.3.7.77)\n",
            "Requirement already satisfied: nvidia-cusolver-cu12==11.7.1.2 in /usr/local/lib/python3.12/dist-packages (from torch>=2.0.0->-r requirements.txt (line 1)) (11.7.1.2)\n",
            "Requirement already satisfied: nvidia-cusparse-cu12==12.5.4.2 in /usr/local/lib/python3.12/dist-packages (from torch>=2.0.0->-r requirements.txt (line 1)) (12.5.4.2)\n",
            "Requirement already satisfied: nvidia-cusparselt-cu12==0.7.1 in /usr/local/lib/python3.12/dist-packages (from torch>=2.0.0->-r requirements.txt (line 1)) (0.7.1)\n",
            "Requirement already satisfied: nvidia-nccl-cu12==2.27.3 in /usr/local/lib/python3.12/dist-packages (from torch>=2.0.0->-r requirements.txt (line 1)) (2.27.3)\n",
            "Requirement already satisfied: nvidia-nvtx-cu12==12.6.77 in /usr/local/lib/python3.12/dist-packages (from torch>=2.0.0->-r requirements.txt (line 1)) (12.6.77)\n",
            "Requirement already satisfied: nvidia-nvjitlink-cu12==12.6.85 in /usr/local/lib/python3.12/dist-packages (from torch>=2.0.0->-r requirements.txt (line 1)) (12.6.85)\n",
            "Requirement already satisfied: nvidia-cufile-cu12==1.11.1.6 in /usr/local/lib/python3.12/dist-packages (from torch>=2.0.0->-r requirements.txt (line 1)) (1.11.1.6)\n",
            "Requirement already satisfied: triton==3.4.0 in /usr/local/lib/python3.12/dist-packages (from torch>=2.0.0->-r requirements.txt (line 1)) (3.4.0)\n",
            "Requirement already satisfied: contourpy>=1.0.1 in /usr/local/lib/python3.12/dist-packages (from matplotlib>=3.7.0->-r requirements.txt (line 6)) (1.3.3)\n",
            "Requirement already satisfied: cycler>=0.10 in /usr/local/lib/python3.12/dist-packages (from matplotlib>=3.7.0->-r requirements.txt (line 6)) (0.12.1)\n",
            "Requirement already satisfied: fonttools>=4.22.0 in /usr/local/lib/python3.12/dist-packages (from matplotlib>=3.7.0->-r requirements.txt (line 6)) (4.60.1)\n",
            "Requirement already satisfied: kiwisolver>=1.3.1 in /usr/local/lib/python3.12/dist-packages (from matplotlib>=3.7.0->-r requirements.txt (line 6)) (1.4.9)\n",
            "Requirement already satisfied: packaging>=20.0 in /usr/local/lib/python3.12/dist-packages (from matplotlib>=3.7.0->-r requirements.txt (line 6)) (25.0)\n",
            "Requirement already satisfied: pyparsing>=2.3.1 in /usr/local/lib/python3.12/dist-packages (from matplotlib>=3.7.0->-r requirements.txt (line 6)) (3.2.5)\n",
            "Requirement already satisfied: python-dateutil>=2.7 in /usr/local/lib/python3.12/dist-packages (from matplotlib>=3.7.0->-r requirements.txt (line 6)) (2.9.0.post0)\n",
            "Requirement already satisfied: aiofiles<25.0,>=22.0 in /usr/local/lib/python3.12/dist-packages (from gradio>=4.44.0->-r requirements.txt (line 7)) (24.1.0)\n",
            "Requirement already satisfied: anyio<5.0,>=3.0 in /usr/local/lib/python3.12/dist-packages (from gradio>=4.44.0->-r requirements.txt (line 7)) (4.11.0)\n",
            "Requirement already satisfied: brotli>=1.1.0 in /usr/local/lib/python3.12/dist-packages (from gradio>=4.44.0->-r requirements.txt (line 7)) (1.1.0)\n",
            "Requirement already satisfied: fastapi<1.0,>=0.115.2 in /usr/local/lib/python3.12/dist-packages (from gradio>=4.44.0->-r requirements.txt (line 7)) (0.118.0)\n",
            "Requirement already satisfied: ffmpy in /usr/local/lib/python3.12/dist-packages (from gradio>=4.44.0->-r requirements.txt (line 7)) (0.6.1)\n",
            "Requirement already satisfied: gradio-client==1.13.3 in /usr/local/lib/python3.12/dist-packages (from gradio>=4.44.0->-r requirements.txt (line 7)) (1.13.3)\n",
            "Requirement already satisfied: groovy~=0.1 in /usr/local/lib/python3.12/dist-packages (from gradio>=4.44.0->-r requirements.txt (line 7)) (0.1.2)\n",
            "Requirement already satisfied: httpx<1.0,>=0.24.1 in /usr/local/lib/python3.12/dist-packages (from gradio>=4.44.0->-r requirements.txt (line 7)) (0.28.1)\n",
            "Requirement already satisfied: markupsafe<4.0,>=2.0 in /usr/local/lib/python3.12/dist-packages (from gradio>=4.44.0->-r requirements.txt (line 7)) (3.0.3)\n",
            "Requirement already satisfied: orjson~=3.0 in /usr/local/lib/python3.12/dist-packages (from gradio>=4.44.0->-r requirements.txt (line 7)) (3.11.3)\n",
            "Requirement already satisfied: pandas<3.0,>=1.0 in /usr/local/lib/python3.12/dist-packages (from gradio>=4.44.0->-r requirements.txt (line 7)) (2.2.2)\n",
            "Requirement already satisfied: pydantic<2.12,>=2.0 in /usr/local/lib/python3.12/dist-packages (from gradio>=4.44.0->-r requirements.txt (line 7)) (2.11.9)\n",
            "Requirement already satisfied: pydub in /usr/local/lib/python3.12/dist-packages (from gradio>=4.44.0->-r requirements.txt (line 7)) (0.25.1)\n",
            "Requirement already satisfied: python-multipart>=0.0.18 in /usr/local/lib/python3.12/dist-packages (from gradio>=4.44.0->-r requirements.txt (line 7)) (0.0.20)\n",
            "Requirement already satisfied: pyyaml<7.0,>=5.0 in /usr/local/lib/python3.12/dist-packages (from gradio>=4.44.0->-r requirements.txt (line 7)) (6.0.3)\n",
            "Requirement already satisfied: ruff>=0.9.3 in /usr/local/lib/python3.12/dist-packages (from gradio>=4.44.0->-r requirements.txt (line 7)) (0.13.2)\n",
            "Requirement already satisfied: safehttpx<0.2.0,>=0.1.6 in /usr/local/lib/python3.12/dist-packages (from gradio>=4.44.0->-r requirements.txt (line 7)) (0.1.6)\n",
            "Requirement already satisfied: semantic-version~=2.0 in /usr/local/lib/python3.12/dist-packages (from gradio>=4.44.0->-r requirements.txt (line 7)) (2.10.0)\n",
            "Requirement already satisfied: starlette<1.0,>=0.40.0 in /usr/local/lib/python3.12/dist-packages (from gradio>=4.44.0->-r requirements.txt (line 7)) (0.48.0)\n",
            "Requirement already satisfied: tomlkit<0.14.0,>=0.12.0 in /usr/local/lib/python3.12/dist-packages (from gradio>=4.44.0->-r requirements.txt (line 7)) (0.13.3)\n",
            "Requirement already satisfied: typer<1.0,>=0.12 in /usr/local/lib/python3.12/dist-packages (from gradio>=4.44.0->-r requirements.txt (line 7)) (0.19.2)\n",
            "Requirement already satisfied: uvicorn>=0.14.0 in /usr/local/lib/python3.12/dist-packages (from gradio>=4.44.0->-r requirements.txt (line 7)) (0.37.0)\n",
            "Requirement already satisfied: websockets<16.0,>=13.0 in /usr/local/lib/python3.12/dist-packages (from gradio-client==1.13.3->gradio>=4.44.0->-r requirements.txt (line 7)) (15.0.1)\n",
            "Requirement already satisfied: requests in /usr/local/lib/python3.12/dist-packages (from huggingface_hub>=0.24.0->-r requirements.txt (line 8)) (2.32.4)\n",
            "Requirement already satisfied: hf-xet<2.0.0,>=1.1.3 in /usr/local/lib/python3.12/dist-packages (from huggingface_hub>=0.24.0->-r requirements.txt (line 8)) (1.1.10)\n",
            "Requirement already satisfied: idna>=2.8 in /usr/local/lib/python3.12/dist-packages (from anyio<5.0,>=3.0->gradio>=4.44.0->-r requirements.txt (line 7)) (3.10)\n",
            "Requirement already satisfied: sniffio>=1.1 in /usr/local/lib/python3.12/dist-packages (from anyio<5.0,>=3.0->gradio>=4.44.0->-r requirements.txt (line 7)) (1.3.1)\n",
            "Requirement already satisfied: certifi in /usr/local/lib/python3.12/dist-packages (from httpx<1.0,>=0.24.1->gradio>=4.44.0->-r requirements.txt (line 7)) (2025.8.3)\n",
            "Requirement already satisfied: httpcore==1.* in /usr/local/lib/python3.12/dist-packages (from httpx<1.0,>=0.24.1->gradio>=4.44.0->-r requirements.txt (line 7)) (1.0.9)\n",
            "Requirement already satisfied: h11>=0.16 in /usr/local/lib/python3.12/dist-packages (from httpcore==1.*->httpx<1.0,>=0.24.1->gradio>=4.44.0->-r requirements.txt (line 7)) (0.16.0)\n",
            "Requirement already satisfied: pytz>=2020.1 in /usr/local/lib/python3.12/dist-packages (from pandas<3.0,>=1.0->gradio>=4.44.0->-r requirements.txt (line 7)) (2025.2)\n",
            "Requirement already satisfied: tzdata>=2022.7 in /usr/local/lib/python3.12/dist-packages (from pandas<3.0,>=1.0->gradio>=4.44.0->-r requirements.txt (line 7)) (2025.2)\n",
            "Requirement already satisfied: annotated-types>=0.6.0 in /usr/local/lib/python3.12/dist-packages (from pydantic<2.12,>=2.0->gradio>=4.44.0->-r requirements.txt (line 7)) (0.7.0)\n",
            "Requirement already satisfied: pydantic-core==2.33.2 in /usr/local/lib/python3.12/dist-packages (from pydantic<2.12,>=2.0->gradio>=4.44.0->-r requirements.txt (line 7)) (2.33.2)\n",
            "Requirement already satisfied: typing-inspection>=0.4.0 in /usr/local/lib/python3.12/dist-packages (from pydantic<2.12,>=2.0->gradio>=4.44.0->-r requirements.txt (line 7)) (0.4.2)\n",
            "Requirement already satisfied: click>=8.0.0 in /usr/local/lib/python3.12/dist-packages (from typer<1.0,>=0.12->gradio>=4.44.0->-r requirements.txt (line 7)) (8.3.0)\n",
            "Requirement already satisfied: shellingham>=1.3.0 in /usr/local/lib/python3.12/dist-packages (from typer<1.0,>=0.12->gradio>=4.44.0->-r requirements.txt (line 7)) (1.5.4)\n",
            "Requirement already satisfied: rich>=10.11.0 in /usr/local/lib/python3.12/dist-packages (from typer<1.0,>=0.12->gradio>=4.44.0->-r requirements.txt (line 7)) (13.9.4)\n",
            "Requirement already satisfied: six>=1.5 in /usr/local/lib/python3.12/dist-packages (from python-dateutil>=2.7->matplotlib>=3.7.0->-r requirements.txt (line 6)) (1.17.0)\n",
            "Requirement already satisfied: markdown-it-py>=2.2.0 in /usr/local/lib/python3.12/dist-packages (from rich>=10.11.0->typer<1.0,>=0.12->gradio>=4.44.0->-r requirements.txt (line 7)) (4.0.0)\n",
            "Requirement already satisfied: pygments<3.0.0,>=2.13.0 in /usr/local/lib/python3.12/dist-packages (from rich>=10.11.0->typer<1.0,>=0.12->gradio>=4.44.0->-r requirements.txt (line 7)) (2.19.2)\n",
            "Requirement already satisfied: mdurl~=0.1 in /usr/local/lib/python3.12/dist-packages (from markdown-it-py>=2.2.0->rich>=10.11.0->typer<1.0,>=0.12->gradio>=4.44.0->-r requirements.txt (line 7)) (0.1.2)\n",
            "Requirement already satisfied: mpmath<1.4,>=1.1.0 in /usr/local/lib/python3.12/dist-packages (from sympy>=1.13.3->torch>=2.0.0->-r requirements.txt (line 1)) (1.3.0)\n",
            "Requirement already satisfied: charset_normalizer<4,>=2 in /usr/local/lib/python3.12/dist-packages (from requests->huggingface_hub>=0.24.0->-r requirements.txt (line 8)) (3.4.3)\n",
            "Requirement already satisfied: urllib3<3,>=1.21.1 in /usr/local/lib/python3.12/dist-packages (from requests->huggingface_hub>=0.24.0->-r requirements.txt (line 8)) (2.5.0)\n"
          ]
        }
      ]
    },
    {
      "cell_type": "code",
      "source": [
        "!python train.py --epochs 100 --batch-size 128 --model resnet18 --max-lr 0.1 --workers 2\n"
      ],
      "metadata": {
        "colab": {
          "base_uri": "https://localhost:8080/"
        },
        "id": "iGxS92sB2puX",
        "outputId": "4c966b65-c57e-4584-9ebc-65415257d167"
      },
      "execution_count": 3,
      "outputs": [
        {
          "output_type": "stream",
          "name": "stdout",
          "text": [
            "Using device: cuda\n",
            "100% 169M/169M [00:03<00:00, 47.9MB/s]\n",
            "/content/S8-CIFAR100-ResNet/train.py:59: FutureWarning: `torch.cuda.amp.GradScaler(args...)` is deprecated. Please use `torch.amp.GradScaler('cuda', args...)` instead.\n",
            "  scaler = GradScaler()\n",
            "Epoch 1 [train]:   0% 0/391 [00:00<?, ?it/s]/content/S8-CIFAR100-ResNet/engine.py:17: FutureWarning: `torch.cuda.amp.autocast(args...)` is deprecated. Please use `torch.amp.autocast('cuda', args...)` instead.\n",
            "  with autocast():\n",
            "Epoch 1 [train]: 100% 391/391 [01:11<00:00,  5.50it/s, loss=4.32, lr=0.0106, top1=5.04]\n",
            "Epoch 1 [val]: 100% 79/79 [00:03<00:00, 23.07it/s, loss=3.7, top1=12.6]\n",
            "Epoch 2 [train]: 100% 391/391 [00:47<00:00,  8.32it/s, loss=3.93, lr=0.0122, top1=10.3]\n",
            "Epoch 2 [val]: 100% 79/79 [00:02<00:00, 29.26it/s, loss=3.16, top1=22.5]\n",
            "Epoch 3 [train]: 100% 391/391 [00:47<00:00,  8.31it/s, loss=3.66, lr=0.0149, top1=14.3]\n",
            "Epoch 3 [val]: 100% 79/79 [00:02<00:00, 29.19it/s, loss=2.78, top1=28.3]\n",
            "Epoch 4 [train]: 100% 391/391 [00:47<00:00,  8.28it/s, loss=3.46, lr=0.0186, top1=17.8]\n",
            "Epoch 4 [val]: 100% 79/79 [00:02<00:00, 30.19it/s, loss=2.67, top1=31.9]\n",
            "Epoch 5 [train]: 100% 391/391 [00:46<00:00,  8.35it/s, loss=3.27, lr=0.0232, top1=22]\n",
            "Epoch 5 [val]: 100% 79/79 [00:02<00:00, 28.57it/s, loss=2.52, top1=34.5]\n",
            "Epoch 6 [train]: 100% 391/391 [00:45<00:00,  8.66it/s, loss=3.13, lr=0.0286, top1=25.9]\n",
            "Epoch 6 [val]: 100% 79/79 [00:03<00:00, 22.79it/s, loss=2.1, top1=44.4]\n",
            "Epoch 7 [train]: 100% 391/391 [00:46<00:00,  8.33it/s, loss=3.02, lr=0.0346, top1=27.8]\n",
            "Epoch 7 [val]: 100% 79/79 [00:02<00:00, 29.92it/s, loss=2.02, top1=46.5]\n",
            "Epoch 8 [train]: 100% 391/391 [00:46<00:00,  8.35it/s, loss=2.81, lr=0.0411, top1=32]\n",
            "Epoch 8 [val]: 100% 79/79 [00:02<00:00, 29.92it/s, loss=2, top1=46.5]\n",
            "Epoch 9 [train]: 100% 391/391 [00:46<00:00,  8.43it/s, loss=2.77, lr=0.048, top1=32.6]\n",
            "Epoch 9 [val]: 100% 79/79 [00:02<00:00, 30.30it/s, loss=1.95, top1=47.5]\n",
            "Epoch 10 [train]: 100% 391/391 [00:46<00:00,  8.34it/s, loss=2.72, lr=0.055, top1=35.5]\n",
            "Epoch 10 [val]: 100% 79/79 [00:02<00:00, 30.74it/s, loss=1.9, top1=49.6]\n",
            "Epoch 11 [train]: 100% 391/391 [00:44<00:00,  8.72it/s, loss=2.65, lr=0.062, top1=33.3]\n",
            "Epoch 11 [val]: 100% 79/79 [00:03<00:00, 22.99it/s, loss=1.85, top1=50.4]\n",
            "Epoch 12 [train]: 100% 391/391 [00:44<00:00,  8.76it/s, loss=2.6, lr=0.0689, top1=36.9]\n",
            "Epoch 12 [val]: 100% 79/79 [00:02<00:00, 30.26it/s, loss=1.77, top1=52.8]\n",
            "Epoch 13 [train]: 100% 391/391 [00:47<00:00,  8.24it/s, loss=2.61, lr=0.0754, top1=35.8]\n",
            "Epoch 13 [val]: 100% 79/79 [00:02<00:00, 31.31it/s, loss=1.89, top1=49.7]\n",
            "Epoch 14 [train]: 100% 391/391 [00:46<00:00,  8.38it/s, loss=2.48, lr=0.0815, top1=38.6]\n",
            "Epoch 14 [val]: 100% 79/79 [00:02<00:00, 30.00it/s, loss=1.62, top1=55.8]\n",
            "Epoch 15 [train]: 100% 391/391 [00:46<00:00,  8.37it/s, loss=2.57, lr=0.0868, top1=38.2]\n",
            "Epoch 15 [val]: 100% 79/79 [00:02<00:00, 30.25it/s, loss=1.83, top1=51.8]\n",
            "Epoch 16 [train]: 100% 391/391 [00:47<00:00,  8.28it/s, loss=2.52, lr=0.0914, top1=40.1]\n",
            "Epoch 16 [val]: 100% 79/79 [00:02<00:00, 30.87it/s, loss=1.71, top1=53.3]\n",
            "Epoch 17 [train]: 100% 391/391 [00:45<00:00,  8.57it/s, loss=2.48, lr=0.0951, top1=41.2]\n",
            "Epoch 17 [val]: 100% 79/79 [00:03<00:00, 25.06it/s, loss=1.8, top1=52]\n",
            "Epoch 18 [train]: 100% 391/391 [00:45<00:00,  8.61it/s, loss=2.44, lr=0.0978, top1=38.6]\n",
            "Epoch 18 [val]: 100% 79/79 [00:03<00:00, 24.85it/s, loss=1.7, top1=54.5]\n",
            "Epoch 19 [train]: 100% 391/391 [00:46<00:00,  8.39it/s, loss=2.48, lr=0.0994, top1=38.8]\n",
            "Epoch 19 [val]: 100% 79/79 [00:02<00:00, 30.51it/s, loss=1.83, top1=51.6]\n",
            "Epoch 20 [train]: 100% 391/391 [00:46<00:00,  8.39it/s, loss=2.46, lr=0.1, top1=40.1]\n",
            "Epoch 20 [val]: 100% 79/79 [00:02<00:00, 29.62it/s, loss=1.68, top1=54.5]\n",
            "Epoch 21 [train]: 100% 391/391 [00:46<00:00,  8.33it/s, loss=2.41, lr=0.1, top1=40.9]\n",
            "Epoch 21 [val]: 100% 79/79 [00:02<00:00, 29.89it/s, loss=1.79, top1=52.5]\n",
            "Epoch 22 [train]: 100% 391/391 [00:48<00:00,  8.10it/s, loss=2.47, lr=0.0998, top1=41.2]\n",
            "Epoch 22 [val]: 100% 79/79 [00:02<00:00, 30.32it/s, loss=1.75, top1=53.5]\n",
            "Epoch 23 [train]: 100% 391/391 [00:45<00:00,  8.58it/s, loss=2.39, lr=0.0997, top1=40.3]\n",
            "Epoch 23 [val]: 100% 79/79 [00:02<00:00, 28.20it/s, loss=1.54, top1=58.7]\n",
            "Epoch 24 [train]: 100% 391/391 [00:45<00:00,  8.56it/s, loss=2.38, lr=0.0994, top1=43.4]\n",
            "Epoch 24 [val]: 100% 79/79 [00:03<00:00, 22.76it/s, loss=1.74, top1=54]\n",
            "Epoch 25 [train]: 100% 391/391 [00:46<00:00,  8.36it/s, loss=2.37, lr=0.099, top1=42.5]\n",
            "Epoch 25 [val]: 100% 79/79 [00:02<00:00, 28.97it/s, loss=1.67, top1=56.1]\n",
            "Epoch 26 [train]: 100% 391/391 [00:46<00:00,  8.39it/s, loss=2.35, lr=0.0986, top1=42.7]\n",
            "Epoch 26 [val]: 100% 79/79 [00:02<00:00, 30.47it/s, loss=1.57, top1=58.8]\n",
            "Epoch 27 [train]: 100% 391/391 [00:46<00:00,  8.44it/s, loss=2.39, lr=0.0981, top1=43.2]\n",
            "Epoch 27 [val]: 100% 79/79 [00:02<00:00, 30.95it/s, loss=1.48, top1=60.1]\n",
            "Epoch 28 [train]: 100% 391/391 [00:47<00:00,  8.26it/s, loss=2.31, lr=0.0976, top1=44.8]\n",
            "Epoch 28 [val]: 100% 79/79 [00:02<00:00, 30.67it/s, loss=1.6, top1=57.5]\n",
            "Epoch 29 [train]: 100% 391/391 [00:46<00:00,  8.46it/s, loss=2.28, lr=0.0969, top1=44.7]\n",
            "Epoch 29 [val]: 100% 79/79 [00:02<00:00, 28.93it/s, loss=1.61, top1=57.9]\n",
            "Epoch 30 [train]: 100% 391/391 [00:46<00:00,  8.47it/s, loss=2.32, lr=0.0962, top1=42.4]\n",
            "Epoch 30 [val]: 100% 79/79 [00:03<00:00, 22.75it/s, loss=1.56, top1=58.1]\n",
            "Epoch 31 [train]: 100% 391/391 [00:46<00:00,  8.32it/s, loss=2.32, lr=0.0954, top1=44.9]\n",
            "Epoch 31 [val]: 100% 79/79 [00:03<00:00, 23.05it/s, loss=1.56, top1=58.4]\n",
            "Epoch 32 [train]: 100% 391/391 [00:45<00:00,  8.61it/s, loss=2.31, lr=0.0946, top1=42.7]\n",
            "Epoch 32 [val]: 100% 79/79 [00:02<00:00, 30.00it/s, loss=1.62, top1=57.3]\n",
            "Epoch 33 [train]: 100% 391/391 [00:46<00:00,  8.36it/s, loss=2.31, lr=0.0936, top1=42.7]\n",
            "Epoch 33 [val]: 100% 79/79 [00:02<00:00, 29.90it/s, loss=1.72, top1=55.3]\n",
            "Epoch 34 [train]: 100% 391/391 [00:47<00:00,  8.26it/s, loss=2.32, lr=0.0926, top1=45.9]\n",
            "Epoch 34 [val]: 100% 79/79 [00:02<00:00, 29.22it/s, loss=1.53, top1=59.4]\n",
            "Epoch 35 [train]: 100% 391/391 [00:46<00:00,  8.35it/s, loss=2.32, lr=0.0916, top1=43.3]\n",
            "Epoch 35 [val]: 100% 79/79 [00:02<00:00, 30.43it/s, loss=1.48, top1=60.9]\n",
            "Epoch 36 [train]: 100% 391/391 [00:46<00:00,  8.44it/s, loss=2.27, lr=0.0905, top1=45.4]\n",
            "Epoch 36 [val]: 100% 79/79 [00:02<00:00, 29.39it/s, loss=1.54, top1=59.7]\n",
            "Epoch 37 [train]: 100% 391/391 [00:47<00:00,  8.29it/s, loss=2.27, lr=0.0893, top1=45.9]\n",
            "Epoch 37 [val]: 100% 79/79 [00:03<00:00, 24.43it/s, loss=1.49, top1=59.4]\n",
            "Epoch 38 [train]: 100% 391/391 [00:45<00:00,  8.54it/s, loss=2.25, lr=0.088, top1=47.1]\n",
            "Epoch 38 [val]: 100% 79/79 [00:03<00:00, 23.36it/s, loss=1.49, top1=60.6]\n",
            "Epoch 39 [train]: 100% 391/391 [00:45<00:00,  8.60it/s, loss=2.29, lr=0.0867, top1=43]\n",
            "Epoch 39 [val]: 100% 79/79 [00:02<00:00, 29.53it/s, loss=1.61, top1=57.1]\n",
            "Epoch 40 [train]: 100% 391/391 [00:47<00:00,  8.17it/s, loss=2.24, lr=0.0854, top1=46.6]\n",
            "Epoch 40 [val]: 100% 79/79 [00:02<00:00, 29.55it/s, loss=1.46, top1=61.4]\n",
            "Epoch 41 [train]: 100% 391/391 [00:47<00:00,  8.19it/s, loss=2.25, lr=0.084, top1=42.7]\n",
            "Epoch 41 [val]: 100% 79/79 [00:02<00:00, 30.34it/s, loss=1.42, top1=62.2]\n",
            "Epoch 42 [train]: 100% 391/391 [00:47<00:00,  8.27it/s, loss=2.27, lr=0.0825, top1=47.3]\n",
            "Epoch 42 [val]: 100% 79/79 [00:02<00:00, 28.15it/s, loss=1.54, top1=58.5]\n",
            "Epoch 43 [train]: 100% 391/391 [00:48<00:00,  8.00it/s, loss=2.16, lr=0.081, top1=44.4]\n",
            "Epoch 43 [val]: 100% 79/79 [00:02<00:00, 30.18it/s, loss=1.44, top1=61.6]\n",
            "Epoch 44 [train]: 100% 391/391 [00:47<00:00,  8.26it/s, loss=2.17, lr=0.0794, top1=46.7]\n",
            "Epoch 44 [val]: 100% 79/79 [00:02<00:00, 29.94it/s, loss=1.43, top1=62.2]\n",
            "Epoch 45 [train]: 100% 391/391 [00:46<00:00,  8.36it/s, loss=2.23, lr=0.0778, top1=46]\n",
            "Epoch 45 [val]: 100% 79/79 [00:03<00:00, 24.34it/s, loss=1.47, top1=61.8]\n",
            "Epoch 46 [train]: 100% 391/391 [00:46<00:00,  8.34it/s, loss=2.2, lr=0.0761, top1=44.8]\n",
            "Epoch 46 [val]: 100% 79/79 [00:03<00:00, 22.51it/s, loss=1.58, top1=58.9]\n",
            "Epoch 47 [train]: 100% 391/391 [00:45<00:00,  8.56it/s, loss=2.18, lr=0.0745, top1=47]\n",
            "Epoch 47 [val]: 100% 79/79 [00:02<00:00, 30.31it/s, loss=1.35, top1=63.4]\n",
            "Epoch 48 [train]: 100% 391/391 [00:47<00:00,  8.32it/s, loss=2.14, lr=0.0727, top1=48]\n",
            "Epoch 48 [val]: 100% 79/79 [00:02<00:00, 29.73it/s, loss=1.52, top1=60.4]\n",
            "Epoch 49 [train]: 100% 391/391 [00:47<00:00,  8.17it/s, loss=2.2, lr=0.071, top1=48.4]\n",
            "Epoch 49 [val]: 100% 79/79 [00:02<00:00, 29.01it/s, loss=1.45, top1=61.6]\n",
            "Epoch 50 [train]: 100% 391/391 [00:47<00:00,  8.26it/s, loss=2.17, lr=0.0692, top1=47.3]\n",
            "Epoch 50 [val]: 100% 79/79 [00:02<00:00, 30.02it/s, loss=1.37, top1=63.4]\n",
            "Epoch 51 [train]: 100% 391/391 [00:46<00:00,  8.43it/s, loss=2.08, lr=0.0673, top1=46.7]\n",
            "Epoch 51 [val]: 100% 79/79 [00:02<00:00, 30.59it/s, loss=1.53, top1=60]\n",
            "Epoch 52 [train]: 100% 391/391 [00:47<00:00,  8.17it/s, loss=2.19, lr=0.0655, top1=46.2]\n",
            "Epoch 52 [val]: 100% 79/79 [00:02<00:00, 27.60it/s, loss=1.34, top1=64.4]\n",
            "Epoch 53 [train]: 100% 391/391 [00:46<00:00,  8.49it/s, loss=2.24, lr=0.0636, top1=47]\n",
            "Epoch 53 [val]: 100% 79/79 [00:03<00:00, 22.65it/s, loss=1.5, top1=60.8]\n",
            "Epoch 54 [train]: 100% 391/391 [00:45<00:00,  8.56it/s, loss=2.13, lr=0.0617, top1=48.6]\n",
            "Epoch 54 [val]: 100% 79/79 [00:03<00:00, 23.77it/s, loss=1.44, top1=62.4]\n",
            "Epoch 55 [train]: 100% 391/391 [00:47<00:00,  8.28it/s, loss=2.18, lr=0.0598, top1=47.1]\n",
            "Epoch 55 [val]: 100% 79/79 [00:02<00:00, 26.73it/s, loss=1.34, top1=65.2]\n",
            "Epoch 56 [train]: 100% 391/391 [00:46<00:00,  8.45it/s, loss=2.13, lr=0.0579, top1=50.3]\n",
            "Epoch 56 [val]: 100% 79/79 [00:02<00:00, 30.16it/s, loss=1.41, top1=63.5]\n",
            "Epoch 57 [train]: 100% 391/391 [00:48<00:00,  8.07it/s, loss=2.11, lr=0.0559, top1=51.4]\n",
            "Epoch 57 [val]: 100% 79/79 [00:02<00:00, 28.33it/s, loss=1.34, top1=64.4]\n",
            "Epoch 58 [train]: 100% 391/391 [00:49<00:00,  7.88it/s, loss=2.09, lr=0.054, top1=47.3]\n",
            "Epoch 58 [val]: 100% 79/79 [00:02<00:00, 29.10it/s, loss=1.46, top1=61.4]\n",
            "Epoch 59 [train]: 100% 391/391 [00:48<00:00,  8.09it/s, loss=2.1, lr=0.052, top1=50.6]\n",
            "Epoch 59 [val]: 100% 79/79 [00:02<00:00, 28.60it/s, loss=1.39, top1=64.6]\n",
            "Epoch 60 [train]: 100% 391/391 [00:48<00:00,  8.09it/s, loss=2.08, lr=0.05, top1=50.8]\n",
            "Epoch 60 [val]: 100% 79/79 [00:02<00:00, 28.67it/s, loss=1.55, top1=60.6]\n",
            "Epoch 61 [train]: 100% 391/391 [00:49<00:00,  7.83it/s, loss=2.08, lr=0.0481, top1=48.7]\n",
            "Epoch 61 [val]: 100% 79/79 [00:02<00:00, 29.10it/s, loss=1.36, top1=64.2]\n",
            "Epoch 62 [train]: 100% 391/391 [00:48<00:00,  8.12it/s, loss=2.04, lr=0.0461, top1=51.1]\n",
            "Epoch 62 [val]: 100% 79/79 [00:02<00:00, 29.30it/s, loss=1.31, top1=64.4]\n",
            "Epoch 63 [train]: 100% 391/391 [00:47<00:00,  8.15it/s, loss=2.03, lr=0.0442, top1=50.7]\n",
            "Epoch 63 [val]: 100% 79/79 [00:02<00:00, 29.56it/s, loss=1.35, top1=64.1]\n",
            "Epoch 64 [train]: 100% 391/391 [00:49<00:00,  7.97it/s, loss=2.06, lr=0.0422, top1=48.9]\n",
            "Epoch 64 [val]: 100% 79/79 [00:02<00:00, 29.38it/s, loss=1.27, top1=66.1]\n",
            "Epoch 65 [train]: 100% 391/391 [00:47<00:00,  8.18it/s, loss=2.03, lr=0.0403, top1=49.4]\n",
            "Epoch 65 [val]: 100% 79/79 [00:02<00:00, 29.34it/s, loss=1.27, top1=66.1]\n",
            "Epoch 66 [train]: 100% 391/391 [00:48<00:00,  8.12it/s, loss=2, lr=0.0384, top1=49.7]\n",
            "Epoch 66 [val]: 100% 79/79 [00:02<00:00, 30.05it/s, loss=1.24, top1=66.5]\n",
            "Epoch 67 [train]: 100% 391/391 [00:48<00:00,  8.01it/s, loss=1.99, lr=0.0365, top1=52.3]\n",
            "Epoch 67 [val]: 100% 79/79 [00:02<00:00, 28.59it/s, loss=1.25, top1=66.2]\n",
            "Epoch 68 [train]: 100% 391/391 [00:48<00:00,  8.12it/s, loss=2, lr=0.0346, top1=52.2]\n",
            "Epoch 68 [val]: 100% 79/79 [00:02<00:00, 29.55it/s, loss=1.19, top1=67.4]\n",
            "Epoch 69 [train]: 100% 391/391 [00:47<00:00,  8.20it/s, loss=2.01, lr=0.0328, top1=53.7]\n",
            "Epoch 69 [val]: 100% 79/79 [00:02<00:00, 29.25it/s, loss=1.19, top1=68.3]\n",
            "Epoch 70 [train]: 100% 391/391 [00:48<00:00,  8.08it/s, loss=1.97, lr=0.0309, top1=51.4]\n",
            "Epoch 70 [val]: 100% 79/79 [00:02<00:00, 29.22it/s, loss=1.22, top1=67.7]\n",
            "Epoch 71 [train]: 100% 391/391 [00:46<00:00,  8.37it/s, loss=1.98, lr=0.0291, top1=51.5]\n",
            "Epoch 71 [val]: 100% 79/79 [00:03<00:00, 24.51it/s, loss=1.14, top1=69.4]\n",
            "Epoch 72 [train]: 100% 391/391 [00:45<00:00,  8.53it/s, loss=1.99, lr=0.0274, top1=50.6]\n",
            "Epoch 72 [val]: 100% 79/79 [00:03<00:00, 23.52it/s, loss=1.2, top1=68.8]\n",
            "Epoch 73 [train]: 100% 391/391 [00:47<00:00,  8.28it/s, loss=1.87, lr=0.0256, top1=54.5]\n",
            "Epoch 73 [val]: 100% 79/79 [00:03<00:00, 26.31it/s, loss=1.16, top1=68.9]\n",
            "Epoch 74 [train]: 100% 391/391 [00:47<00:00,  8.31it/s, loss=1.94, lr=0.0239, top1=54.3]\n",
            "Epoch 74 [val]: 100% 79/79 [00:02<00:00, 30.20it/s, loss=1.15, top1=69.6]\n",
            "Epoch 75 [train]: 100% 391/391 [00:47<00:00,  8.28it/s, loss=1.89, lr=0.0223, top1=54.6]\n",
            "Epoch 75 [val]: 100% 79/79 [00:02<00:00, 29.03it/s, loss=1.12, top1=69.9]\n",
            "Epoch 76 [train]: 100% 391/391 [00:48<00:00,  8.08it/s, loss=1.84, lr=0.0207, top1=54.1]\n",
            "Epoch 76 [val]: 100% 79/79 [00:02<00:00, 30.21it/s, loss=1.08, top1=71.5]\n",
            "Epoch 77 [train]: 100% 391/391 [00:47<00:00,  8.26it/s, loss=1.84, lr=0.0191, top1=57.1]\n",
            "Epoch 77 [val]: 100% 79/79 [00:02<00:00, 30.69it/s, loss=1.06, top1=71.5]\n",
            "Epoch 78 [train]: 100% 391/391 [00:47<00:00,  8.20it/s, loss=1.84, lr=0.0176, top1=56.1]\n",
            "Epoch 78 [val]: 100% 79/79 [00:02<00:00, 29.24it/s, loss=1.07, top1=71.2]\n",
            "Epoch 79 [train]: 100% 391/391 [00:48<00:00,  8.09it/s, loss=1.79, lr=0.0161, top1=58.9]\n",
            "Epoch 79 [val]: 100% 79/79 [00:02<00:00, 30.19it/s, loss=1.06, top1=72.4]\n",
            "Epoch 80 [train]: 100% 391/391 [00:46<00:00,  8.43it/s, loss=1.84, lr=0.0147, top1=56.2]\n",
            "Epoch 80 [val]: 100% 79/79 [00:03<00:00, 25.11it/s, loss=1.09, top1=71]\n",
            "Epoch 81 [train]: 100% 391/391 [00:45<00:00,  8.61it/s, loss=1.75, lr=0.0134, top1=58.7]\n",
            "Epoch 81 [val]: 100% 79/79 [00:03<00:00, 26.25it/s, loss=1.01, top1=73.2]\n",
            "Epoch 82 [train]: 100% 391/391 [00:47<00:00,  8.28it/s, loss=1.77, lr=0.0121, top1=59.6]\n",
            "Epoch 82 [val]: 100% 79/79 [00:02<00:00, 30.34it/s, loss=0.973, top1=74.1]\n",
            "Epoch 83 [train]: 100% 391/391 [00:46<00:00,  8.44it/s, loss=1.64, lr=0.0108, top1=60.7]\n",
            "Epoch 83 [val]: 100% 79/79 [00:02<00:00, 30.96it/s, loss=0.984, top1=73.9]\n",
            "Epoch 84 [train]: 100% 391/391 [00:46<00:00,  8.39it/s, loss=1.69, lr=0.00964, top1=59.1]\n",
            "Epoch 84 [val]: 100% 79/79 [00:02<00:00, 29.80it/s, loss=0.941, top1=75.6]\n",
            "Epoch 85 [train]: 100% 391/391 [00:47<00:00,  8.19it/s, loss=1.62, lr=0.00852, top1=62.3]\n",
            "Epoch 85 [val]: 100% 79/79 [00:02<00:00, 30.37it/s, loss=0.965, top1=75]\n",
            "Epoch 86 [train]: 100% 391/391 [00:47<00:00,  8.30it/s, loss=1.56, lr=0.00746, top1=62.7]\n",
            "Epoch 86 [val]: 100% 79/79 [00:02<00:00, 29.84it/s, loss=0.958, top1=75]\n",
            "Epoch 87 [train]: 100% 391/391 [00:46<00:00,  8.36it/s, loss=1.57, lr=0.00647, top1=63]\n",
            "Epoch 87 [val]: 100% 79/79 [00:02<00:00, 27.89it/s, loss=0.892, top1=76.9]\n",
            "Epoch 88 [train]: 100% 391/391 [00:45<00:00,  8.55it/s, loss=1.58, lr=0.00554, top1=66.5]\n",
            "Epoch 88 [val]: 100% 79/79 [00:03<00:00, 20.40it/s, loss=0.919, top1=76.1]\n",
            "Epoch 89 [train]: 100% 391/391 [00:46<00:00,  8.38it/s, loss=1.54, lr=0.00469, top1=62.7]\n",
            "Epoch 89 [val]: 100% 79/79 [00:02<00:00, 29.97it/s, loss=0.898, top1=77.4]\n",
            "Epoch 90 [train]: 100% 391/391 [00:46<00:00,  8.37it/s, loss=1.46, lr=0.0039, top1=65.7]\n",
            "Epoch 90 [val]: 100% 79/79 [00:02<00:00, 30.09it/s, loss=0.851, top1=77.7]\n",
            "Epoch 91 [train]: 100% 391/391 [00:47<00:00,  8.28it/s, loss=1.42, lr=0.00319, top1=69.1]\n",
            "Epoch 91 [val]: 100% 79/79 [00:02<00:00, 30.42it/s, loss=0.835, top1=78.4]\n",
            "Epoch 92 [train]: 100% 391/391 [00:48<00:00,  8.11it/s, loss=1.43, lr=0.00254, top1=65.7]\n",
            "Epoch 92 [val]: 100% 79/79 [00:02<00:00, 29.44it/s, loss=0.816, top1=78.7]\n",
            "Epoch 93 [train]: 100% 391/391 [00:47<00:00,  8.25it/s, loss=1.42, lr=0.00197, top1=67.5]\n",
            "Epoch 93 [val]: 100% 79/79 [00:02<00:00, 30.10it/s, loss=0.817, top1=79]\n",
            "Epoch 94 [train]: 100% 391/391 [00:46<00:00,  8.42it/s, loss=1.38, lr=0.00148, top1=66.7]\n",
            "Epoch 94 [val]: 100% 79/79 [00:02<00:00, 30.34it/s, loss=0.834, top1=78.8]\n",
            "Epoch 95 [train]: 100% 391/391 [00:47<00:00,  8.16it/s, loss=1.4, lr=0.00106, top1=68.3]\n",
            "Epoch 95 [val]: 100% 79/79 [00:02<00:00, 27.89it/s, loss=0.816, top1=79.2]\n",
            "Epoch 96 [train]: 100% 391/391 [00:46<00:00,  8.46it/s, loss=1.34, lr=0.000714, top1=70.2]\n",
            "Epoch 96 [val]: 100% 79/79 [00:03<00:00, 22.28it/s, loss=0.79, top1=79.8]\n",
            "Epoch 97 [train]: 100% 391/391 [00:46<00:00,  8.45it/s, loss=1.37, lr=0.000446, top1=69.1]\n",
            "Epoch 97 [val]: 100% 79/79 [00:03<00:00, 24.94it/s, loss=0.792, top1=79.9]\n",
            "Epoch 98 [train]: 100% 391/391 [00:47<00:00,  8.20it/s, loss=1.23, lr=0.000254, top1=70.2]\n",
            "Epoch 98 [val]: 100% 79/79 [00:02<00:00, 30.18it/s, loss=0.778, top1=80.1]\n",
            "Epoch 99 [train]: 100% 391/391 [00:47<00:00,  8.17it/s, loss=1.31, lr=0.000138, top1=68.2]\n",
            "Epoch 99 [val]: 100% 79/79 [00:02<00:00, 30.17it/s, loss=0.768, top1=80]\n",
            "Epoch 100 [train]: 100% 391/391 [00:47<00:00,  8.26it/s, loss=1.34, lr=0.0001, top1=66.9]\n",
            "Epoch 100 [val]: 100% 79/79 [00:02<00:00, 30.42it/s, loss=0.784, top1=80]\n",
            "Training complete. Best Top-1: 80.08%\n"
          ]
        }
      ]
    },
    {
      "cell_type": "code",
      "source": [
        "!tail -n 20 logs/training_log.md\n",
        "!ls checkpoints\n"
      ],
      "metadata": {
        "colab": {
          "base_uri": "https://localhost:8080/"
        },
        "id": "LtXaBgYXKIMr",
        "outputId": "121b3b23-7c71-481b-a21b-f071efe0ab87"
      },
      "execution_count": 4,
      "outputs": [
        {
          "output_type": "stream",
          "name": "stdout",
          "text": [
            "| 81 | 0.013367 | 1.7470 | 58.69 | 76.45 | 1.0134 | 73.25 | 92.76 |\n",
            "| 82 | 0.012064 | 1.7692 | 59.60 | 77.18 | 0.9725 | 74.14 | 93.33 |\n",
            "| 83 | 0.010820 | 1.6367 | 60.66 | 77.26 | 0.9839 | 73.91 | 93.25 |\n",
            "| 84 | 0.009637 | 1.6873 | 59.13 | 75.26 | 0.9409 | 75.56 | 93.91 |\n",
            "| 85 | 0.008515 | 1.6213 | 62.26 | 78.05 | 0.9651 | 75.05 | 93.68 |\n",
            "| 86 | 0.007458 | 1.5632 | 62.68 | 77.79 | 0.9581 | 75.01 | 93.74 |\n",
            "| 87 | 0.006466 | 1.5740 | 62.97 | 78.20 | 0.8923 | 76.93 | 94.44 |\n",
            "| 88 | 0.005542 | 1.5794 | 66.49 | 81.39 | 0.9193 | 76.07 | 94.25 |\n",
            "| 89 | 0.004686 | 1.5406 | 62.68 | 76.42 | 0.8977 | 77.39 | 94.28 |\n",
            "| 90 | 0.003900 | 1.4650 | 65.74 | 78.63 | 0.8513 | 77.69 | 94.93 |\n",
            "| 91 | 0.003186 | 1.4160 | 69.11 | 81.66 | 0.8347 | 78.37 | 94.96 |\n",
            "| 92 | 0.002543 | 1.4278 | 65.69 | 78.13 | 0.8160 | 78.72 | 95.05 |\n",
            "| 93 | 0.001974 | 1.4193 | 67.47 | 79.03 | 0.8170 | 78.95 | 95.22 |\n",
            "| 94 | 0.001479 | 1.3840 | 66.68 | 78.44 | 0.8340 | 78.84 | 95.19 |\n",
            "| 95 | 0.001059 | 1.3988 | 68.28 | 80.10 | 0.8156 | 79.25 | 95.31 |\n",
            "| 96 | 0.000714 | 1.3391 | 70.24 | 81.08 | 0.7895 | 79.76 | 95.47 |\n",
            "| 97 | 0.000446 | 1.3694 | 69.13 | 80.20 | 0.7918 | 79.91 | 95.54 |\n",
            "| 98 | 0.000254 | 1.2318 | 70.16 | 79.59 | 0.7781 | 80.08 | 95.73 |\n",
            "| 99 | 0.000138 | 1.3073 | 68.24 | 78.79 | 0.7684 | 80.04 | 95.77 |\n",
            "| 100 | 0.000100 | 1.3427 | 66.86 | 77.79 | 0.7844 | 80.04 | 95.69 |\n",
            "best_resnet18_cifar100.pth  last_resnet18_cifar100.pth\n"
          ]
        }
      ]
    },
    {
      "cell_type": "code",
      "source": [
        "from google.colab import files\n",
        "files.download(\"logs/training_log.md\")\n"
      ],
      "metadata": {
        "colab": {
          "base_uri": "https://localhost:8080/",
          "height": 17
        },
        "id": "5_PnQZ-zKSEm",
        "outputId": "3c095597-ce67-4a53-a1a0-310f7e191aff"
      },
      "execution_count": 5,
      "outputs": [
        {
          "output_type": "display_data",
          "data": {
            "text/plain": [
              "<IPython.core.display.Javascript object>"
            ],
            "application/javascript": [
              "\n",
              "    async function download(id, filename, size) {\n",
              "      if (!google.colab.kernel.accessAllowed) {\n",
              "        return;\n",
              "      }\n",
              "      const div = document.createElement('div');\n",
              "      const label = document.createElement('label');\n",
              "      label.textContent = `Downloading \"${filename}\": `;\n",
              "      div.appendChild(label);\n",
              "      const progress = document.createElement('progress');\n",
              "      progress.max = size;\n",
              "      div.appendChild(progress);\n",
              "      document.body.appendChild(div);\n",
              "\n",
              "      const buffers = [];\n",
              "      let downloaded = 0;\n",
              "\n",
              "      const channel = await google.colab.kernel.comms.open(id);\n",
              "      // Send a message to notify the kernel that we're ready.\n",
              "      channel.send({})\n",
              "\n",
              "      for await (const message of channel.messages) {\n",
              "        // Send a message to notify the kernel that we're ready.\n",
              "        channel.send({})\n",
              "        if (message.buffers) {\n",
              "          for (const buffer of message.buffers) {\n",
              "            buffers.push(buffer);\n",
              "            downloaded += buffer.byteLength;\n",
              "            progress.value = downloaded;\n",
              "          }\n",
              "        }\n",
              "      }\n",
              "      const blob = new Blob(buffers, {type: 'application/binary'});\n",
              "      const a = document.createElement('a');\n",
              "      a.href = window.URL.createObjectURL(blob);\n",
              "      a.download = filename;\n",
              "      div.appendChild(a);\n",
              "      a.click();\n",
              "      div.remove();\n",
              "    }\n",
              "  "
            ]
          },
          "metadata": {}
        },
        {
          "output_type": "display_data",
          "data": {
            "text/plain": [
              "<IPython.core.display.Javascript object>"
            ],
            "application/javascript": [
              "download(\"download_052ff39a-c24c-43c6-80aa-9b15979c3643\", \"training_log.md\", 6920)"
            ]
          },
          "metadata": {}
        }
      ]
    },
    {
      "cell_type": "code",
      "source": [
        "from getpass import getpass\n",
        "token = getpass('🔑 Enter your GitHub Personal Access Token (classic, with \"repo\" scope): ')\n",
        "\n",
        "!git config --global user.email \"neelreddy.rebala@gmail.com\"\n",
        "!git config --global user.name \"Neel Reddy Rebala\"\n",
        "\n",
        "!git remote set-url origin https://{token}@github.com/neelreddyrebala/S8-CIFAR100-ResNet.git\n",
        "\n",
        "!git add logs/training_log.md checkpoints/*.pth\n",
        "!git commit -m \"Add training logs and checkpoints (GPU run)\"\n",
        "!git push origin main\n"
      ],
      "metadata": {
        "colab": {
          "base_uri": "https://localhost:8080/"
        },
        "id": "fsFmi3UtL1ab",
        "outputId": "9debb938-4f96-450e-a736-8c87af20c123"
      },
      "execution_count": 6,
      "outputs": [
        {
          "output_type": "stream",
          "name": "stdout",
          "text": [
            "🔑 Enter your GitHub Personal Access Token (classic, with \"repo\" scope): ··········\n",
            "The following paths are ignored by one of your .gitignore files:\n",
            "checkpoints\n",
            "logs\n",
            "\u001b[33mhint: Use -f if you really want to add them.\u001b[m\n",
            "\u001b[33mhint: Turn this message off by running\u001b[m\n",
            "\u001b[33mhint: \"git config advice.addIgnoredFile false\"\u001b[m\n",
            "On branch main\n",
            "Your branch is up to date with 'origin/main'.\n",
            "\n",
            "nothing to commit, working tree clean\n",
            "Everything up-to-date\n"
          ]
        }
      ]
    },
    {
      "cell_type": "code",
      "source": [
        "!git add -f logs/training_log.md\n",
        "!git add -f checkpoints/*.pth\n",
        "!git commit -m \"Add training logs and checkpoints (forced, assignment upload)\"\n",
        "!git push origin main\n"
      ],
      "metadata": {
        "colab": {
          "base_uri": "https://localhost:8080/"
        },
        "id": "B0UDJaDCMP0g",
        "outputId": "94fa5cbb-dbce-45a3-d044-18d44c568a89"
      },
      "execution_count": 7,
      "outputs": [
        {
          "output_type": "stream",
          "name": "stdout",
          "text": [
            "[main 792a2cd] Add training logs and checkpoints (forced, assignment upload)\n",
            " 3 files changed, 102 insertions(+)\n",
            " create mode 100644 checkpoints/best_resnet18_cifar100.pth\n",
            " create mode 100644 checkpoints/last_resnet18_cifar100.pth\n",
            " create mode 100644 logs/training_log.md\n",
            "Enumerating objects: 8, done.\n",
            "Counting objects: 100% (8/8), done.\n",
            "Delta compression using up to 2 threads\n",
            "Compressing objects: 100% (6/6), done.\n",
            "Writing objects: 100% (7/7), 79.54 MiB | 11.73 MiB/s, done.\n",
            "Total 7 (delta 1), reused 0 (delta 0), pack-reused 0\n",
            "remote: Resolving deltas: 100% (1/1), completed with 1 local object.\u001b[K\n",
            "To https://github.com/neelreddyrebala/S8-CIFAR100-ResNet.git\n",
            "   65bbedd..792a2cd  main -> main\n"
          ]
        }
      ]
    },
    {
      "cell_type": "code",
      "source": [
        "!git add *.ipynb\n",
        "!git commit -m \"Add Colab notebook for reproducibility\"\n",
        "!git push origin main\n"
      ],
      "metadata": {
        "colab": {
          "base_uri": "https://localhost:8080/"
        },
        "id": "aiM13ZeQNqIK",
        "outputId": "0545eeb1-b9dd-471f-adad-d30f4fb42f8d"
      },
      "execution_count": 8,
      "outputs": [
        {
          "output_type": "stream",
          "name": "stdout",
          "text": [
            "fatal: pathspec '*.ipynb' did not match any files\n",
            "On branch main\n",
            "Your branch is up to date with 'origin/main'.\n",
            "\n",
            "nothing to commit, working tree clean\n",
            "Everything up-to-date\n"
          ]
        }
      ]
    },
    {
      "cell_type": "code",
      "source": [
        "!ls -lh checkpoints/\n",
        "!head logs/training_log.md\n"
      ],
      "metadata": {
        "colab": {
          "base_uri": "https://localhost:8080/"
        },
        "id": "z7VMDcjJOBSi",
        "outputId": "fb3061c1-1ba0-412b-d233-7705185a69e9"
      },
      "execution_count": 9,
      "outputs": [
        {
          "output_type": "stream",
          "name": "stdout",
          "text": [
            "total 86M\n",
            "-rw-r--r-- 1 root root 43M Oct  5 06:53 best_resnet18_cifar100.pth\n",
            "-rw-r--r-- 1 root root 43M Oct  5 06:55 last_resnet18_cifar100.pth\n",
            "| epoch | lr | train_loss | train_top1 | train_top5 | val_loss | val_top1 | val_top5 |\n",
            "|---:|---:|---:|---:|---:|---:|---:|---:|\n",
            "| 1 | 0.010554 | 4.3163 | 5.04 | 17.12 | 3.6953 | 12.60 | 36.83 |\n",
            "| 2 | 0.012203 | 3.9334 | 10.25 | 29.46 | 3.1634 | 22.48 | 50.71 |\n",
            "| 3 | 0.014906 | 3.6556 | 14.26 | 35.99 | 2.7750 | 28.30 | 61.43 |\n",
            "| 4 | 0.018596 | 3.4641 | 17.80 | 41.46 | 2.6660 | 31.87 | 64.20 |\n",
            "| 5 | 0.023183 | 3.2691 | 22.03 | 47.18 | 2.5239 | 34.48 | 66.74 |\n",
            "| 6 | 0.028554 | 3.1273 | 25.92 | 52.34 | 2.0997 | 44.37 | 76.01 |\n",
            "| 7 | 0.034576 | 3.0192 | 27.81 | 53.14 | 2.0171 | 46.52 | 78.34 |\n",
            "| 8 | 0.041101 | 2.8062 | 32.00 | 58.86 | 1.9997 | 46.49 | 77.97 |\n"
          ]
        }
      ]
    }
  ]
}